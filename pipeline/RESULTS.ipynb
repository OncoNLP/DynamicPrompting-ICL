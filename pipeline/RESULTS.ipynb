{
 "cells": [
  {
   "cell_type": "code",
   "execution_count": 1,
   "metadata": {},
   "outputs": [],
   "source": [
    "import os\n",
    "import gc\n",
    "import re\n",
    "import json\n",
    "import torch\n",
    "import pickle\n",
    "import string\n",
    "import argparse\n",
    "import subprocess\n",
    "import numpy as np\n",
    "import pandas as pd\n",
    "from scipy.special import softmax\n",
    "from collections import OrderedDict\n",
    "from vllm import LLM, SamplingParams\n",
    "from sklearn.neighbors import NearestNeighbors\n",
    "from sklearn.model_selection import StratifiedKFold\n",
    "from transformers import AutoTokenizer, AutoModel, AutoModelForCausalLM, AutoConfig\n",
    "from sklearn.metrics import accuracy_score, roc_auc_score, precision_score, recall_score, f1_score"
   ]
  },
  {
   "cell_type": "markdown",
   "metadata": {},
   "source": [
    "# Load pipeline arguments\n",
    "---"
   ]
  },
  {
   "cell_type": "code",
   "execution_count": 2,
   "metadata": {},
   "outputs": [],
   "source": [
    "# Data files\n",
    "examples_arg = '../../example_file.csv'\n",
    "test_data_arg = '../../test_file.csv'\n",
    "\n",
    "examples_summary_arg = '../../example_summary_file.csv'\n",
    "test_data_summary_arg = '../../test_summary_file.csv'"
   ]
  },
  {
   "cell_type": "markdown",
   "metadata": {},
   "source": [
    "# Run the pipeline - 8B Experiments\n",
    "---"
   ]
  },
  {
   "cell_type": "markdown",
   "metadata": {},
   "source": [
    "### Zero-Shot Full Notes"
   ]
  },
  {
   "cell_type": "code",
   "execution_count": null,
   "metadata": {},
   "outputs": [
    {
     "name": "stdout",
     "output_type": "stream",
     "text": [
      "Traceback (most recent call last):\n",
      "  File \"/home/srinivasb/snap/snapd-desktop-integration/253/Documents/DynamicPrompting-ICL/pipeline/run_dynamic_prompt.py\", line 242, in <module>\n",
      "    main(args.large, args.num_gpus, args.zero_shot, args.examples, args.test_data, args.summary)\n",
      "  File \"/home/srinivasb/snap/snapd-desktop-integration/253/Documents/DynamicPrompting-ICL/pipeline/run_dynamic_prompt.py\", line 219, in main\n",
      "    embedding_model = embedding_model.to(device)\n",
      "                      ^^^^^^^^^^^^^^^^^^^^^^^^^^\n",
      "  File \"/home/srinivasb/.conda/envs/radoncB/lib/python3.11/site-packages/transformers/modeling_utils.py\", line 2905, in to\n",
      "    return super().to(*args, **kwargs)\n",
      "           ^^^^^^^^^^^^^^^^^^^^^^^^^^^\n",
      "  File \"/home/srinivasb/.conda/envs/radoncB/lib/python3.11/site-packages/torch/nn/modules/module.py\", line 1174, in to\n",
      "    return self._apply(convert)\n",
      "           ^^^^^^^^^^^^^^^^^^^^\n",
      "  File \"/home/srinivasb/.conda/envs/radoncB/lib/python3.11/site-packages/torch/nn/modules/module.py\", line 780, in _apply\n",
      "    module._apply(fn)\n",
      "  File \"/home/srinivasb/.conda/envs/radoncB/lib/python3.11/site-packages/torch/nn/modules/module.py\", line 780, in _apply\n",
      "    module._apply(fn)\n",
      "  File \"/home/srinivasb/.conda/envs/radoncB/lib/python3.11/site-packages/torch/nn/modules/module.py\", line 780, in _apply\n",
      "    module._apply(fn)\n",
      "  [Previous line repeated 2 more times]\n",
      "  File \"/home/srinivasb/.conda/envs/radoncB/lib/python3.11/site-packages/torch/nn/modules/module.py\", line 805, in _apply\n",
      "    param_applied = fn(param)\n",
      "                    ^^^^^^^^^\n",
      "  File \"/home/srinivasb/.conda/envs/radoncB/lib/python3.11/site-packages/torch/nn/modules/module.py\", line 1160, in convert\n",
      "    return t.to(\n",
      "           ^^^^^\n",
      "torch.OutOfMemoryError: CUDA out of memory. Tried to allocate 18.00 MiB. GPU 0 has a total capacity of 47.44 GiB of which 7.12 MiB is free. Process 366303 has 46.37 GiB memory in use. Process 366304 has 262.00 MiB memory in use. Including non-PyTorch memory, this process has 752.00 MiB memory in use. Of the allocated memory 459.42 MiB is allocated by PyTorch, and 32.58 MiB is reserved by PyTorch but unallocated. If reserved but unallocated memory is large try setting PYTORCH_CUDA_ALLOC_CONF=expandable_segments:True to avoid fragmentation.  See documentation for Memory Management  (https://pytorch.org/docs/stable/notes/cuda.html#environment-variables)\n"
     ]
    }
   ],
   "source": [
    "!/home/srinivasb/.conda/envs/radoncB/bin/python3 run_dynamic_prompt.py \\\n",
    "    --large False \\\n",
    "    --num_gpus 4 \\\n",
    "    --zero_shot True \\\n",
    "    --examples ../../example_file.csv \\\n",
    "    --test_data ../../test_file.csv \\\n",
    "    --summary False"
   ]
  },
  {
   "cell_type": "markdown",
   "metadata": {},
   "source": [
    "### Zero Shot Summary Notes"
   ]
  },
  {
   "cell_type": "code",
   "execution_count": null,
   "metadata": {},
   "outputs": [],
   "source": [
    "!/home/srinivasb/.conda/envs/radoncB/bin/python3 run_dynamic_prompt.py \\\n",
    "    --large False \\\n",
    "    --num_gpus 1 \\\n",
    "    --zero_shot True \\\n",
    "    --examples ../../example_summary_file.csv \\\n",
    "    --test_data ../../test_summary_file.csv \\\n",
    "    --summary True"
   ]
  },
  {
   "cell_type": "markdown",
   "metadata": {},
   "source": [
    "### Dynamic Full Notes"
   ]
  },
  {
   "cell_type": "code",
   "execution_count": null,
   "metadata": {},
   "outputs": [],
   "source": [
    "!/home/srinivasb/.conda/envs/radoncB/bin/python3 run_dynamic_prompt.py \\\n",
    "    --large False \\\n",
    "    --num_gpus 4 \\\n",
    "    --zero_shot True \\\n",
    "    --examples ../../example_file.csv \\\n",
    "    --test_data ../../test_file.csv \\\n",
    "    --summary False"
   ]
  },
  {
   "cell_type": "markdown",
   "metadata": {},
   "source": [
    "### Dynamic Summary Notes"
   ]
  },
  {
   "cell_type": "code",
   "execution_count": null,
   "metadata": {},
   "outputs": [],
   "source": [
    "!/home/srinivasb/.conda/envs/radoncB/bin/python3 run_dynamic_prompt.py \\\n",
    "    --large False \\\n",
    "    --num_gpus 1 \\\n",
    "    --zero_shot True \\\n",
    "    --examples ../../example_summary_file.csv \\\n",
    "    --test_data ../../test_summary_file.csv \\\n",
    "    --summary True"
   ]
  },
  {
   "cell_type": "markdown",
   "metadata": {},
   "source": [
    "# Results\n",
    "---"
   ]
  },
  {
   "cell_type": "code",
   "execution_count": null,
   "metadata": {},
   "outputs": [],
   "source": []
  }
 ],
 "metadata": {
  "kernelspec": {
   "display_name": "Python 3",
   "language": "python",
   "name": "python3"
  },
  "language_info": {
   "codemirror_mode": {
    "name": "ipython",
    "version": 3
   },
   "file_extension": ".py",
   "mimetype": "text/x-python",
   "name": "python",
   "nbconvert_exporter": "python",
   "pygments_lexer": "ipython3",
   "version": "3.11.9"
  }
 },
 "nbformat": 4,
 "nbformat_minor": 2
}
