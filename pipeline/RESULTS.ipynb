{
 "cells": [
  {
   "cell_type": "code",
   "execution_count": 17,
   "metadata": {},
   "outputs": [],
   "source": [
    "import os\n",
    "os.environ['CUDA_DEVICE_ORDER']='PCI_BUS_ID'\n",
    "os.environ['CUDA_VISIBLE_DEVICES']='4,5,6,7'\n",
    "import gc\n",
    "import re\n",
    "import json\n",
    "import torch\n",
    "import pickle\n",
    "import string\n",
    "import argparse\n",
    "import subprocess\n",
    "import numpy as np\n",
    "import pandas as pd\n",
    "import matplotlib.pyplot as plt\n",
    "from scipy.special import softmax\n",
    "from collections import OrderedDict\n",
    "from vllm import LLM, SamplingParams\n",
    "from sklearn.neighbors import NearestNeighbors\n",
    "from sklearn.model_selection import StratifiedKFold\n",
    "from transformers import AutoTokenizer, AutoModel, AutoModelForCausalLM, AutoConfig\n",
    "from sklearn.metrics import accuracy_score, roc_auc_score, precision_score, recall_score, f1_score"
   ]
  },
  {
   "cell_type": "markdown",
   "metadata": {},
   "source": [
    "# Run the pipeline - 8B Breast Experiments\n",
    "---"
   ]
  },
  {
   "cell_type": "markdown",
   "metadata": {},
   "source": [
    "## Zero Shot Full Notes"
   ]
  },
  {
   "cell_type": "code",
   "execution_count": null,
   "metadata": {},
   "outputs": [
    {
     "name": "stdout",
     "output_type": "stream",
     "text": [
      "Fold 1 executed successfully. Logs saved to ../../exp_logs/breast_8B/zero_shot_fn_fold_1.txt\n",
      "Fold 2 executed successfully. Logs saved to ../../exp_logs/breast_8B/zero_shot_fn_fold_2.txt\n",
      "Fold 3 executed successfully. Logs saved to ../../exp_logs/breast_8B/zero_shot_fn_fold_3.txt\n",
      "Fold 4 executed successfully. Logs saved to ../../exp_logs/breast_8B/zero_shot_fn_fold_4.txt\n",
      "Fold 5 executed successfully. Logs saved to ../../exp_logs/breast_8B/zero_shot_fn_fold_5.txt\n"
     ]
    }
   ],
   "source": [
    "for fold in range(1, 6):\n",
    "    command = [\n",
    "        \"/home/srinivasb/.conda/envs/radoncB/bin/python3\",\n",
    "        \"run_dynamic_prompt.py\",\n",
    "        \"--exp_type\", \"breast_8B/zero_shot_fn\",\n",
    "        \"--fold_number\", str(fold),\n",
    "        \"--large\", \"False\",\n",
    "        \"--num_gpus\", \"4\",\n",
    "        \"--zero_shot\", \"True\",\n",
    "        \"--examples\", f\"../../example_file_{fold}.csv\",\n",
    "        \"--test_data\", f\"../../test_file_{fold}.csv\",\n",
    "        \"--summary\", \"False\",\n",
    "        \"--vector_db\", \"/data/llm_shared/jina_embs/jina_embs_breast.pkl\",\n",
    "        \"--cancer_type\", \"breast\"\n",
    "    ]\n",
    "\n",
    "    log_file = f\"../../exp_logs/breast_8B/zero_shot_fn_fold_{fold}.txt\"\n",
    "\n",
    "    with open(log_file, \"w\") as log:\n",
    "        result = subprocess.run(command, stdout=log, stderr=log)\n",
    "\n",
    "    if result.returncode == 0:\n",
    "        print(f\"Fold {fold} executed successfully. Logs saved to {log_file}\")\n",
    "    else:\n",
    "        print(f\"Fold {fold} encountered an error. Check logs at {log_file}\")\n",
    "\n"
   ]
  },
  {
   "cell_type": "markdown",
   "metadata": {},
   "source": [
    "## Dynamic Full Notes"
   ]
  },
  {
   "cell_type": "code",
   "execution_count": null,
   "metadata": {},
   "outputs": [
    {
     "name": "stdout",
     "output_type": "stream",
     "text": [
      "Fold 1 executed successfully. Logs saved to ../../exp_logs/breast_8B/dynamic_fn_fold_1.txt\n",
      "Fold 2 executed successfully. Logs saved to ../../exp_logs/breast_8B/dynamic_fn_fold_2.txt\n",
      "Fold 3 executed successfully. Logs saved to ../../exp_logs/breast_8B/dynamic_fn_fold_3.txt\n",
      "Fold 4 executed successfully. Logs saved to ../../exp_logs/breast_8B/dynamic_fn_fold_4.txt\n",
      "Fold 5 executed successfully. Logs saved to ../../exp_logs/breast_8B/dynamic_fn_fold_5.txt\n"
     ]
    }
   ],
   "source": [
    "for fold in range(1, 6):\n",
    "    command = [\n",
    "        \"/home/srinivasb/.conda/envs/radoncB/bin/python3\",\n",
    "        \"run_dynamic_prompt.py\",\n",
    "        \"--exp_type\", \"breast_8B/dynamic_fn\",\n",
    "        \"--fold_number\", str(fold),\n",
    "        \"--large\", \"False\",\n",
    "        \"--num_gpus\", \"4\",\n",
    "        \"--zero_shot\", \"False\",\n",
    "        \"--examples\", f\"../../example_file_{fold}.csv\",\n",
    "        \"--test_data\", f\"../../test_file_{fold}.csv\",\n",
    "        \"--summary\", \"False\",\n",
    "        \"--vector_db\", \"/data/llm_shared/jina_embs/jina_embs_breast.pkl\",\n",
    "        \"--cancer_type\", \"breast\"\n",
    "    ]\n",
    "\n",
    "    log_file = f\"../../exp_logs/breast_8B/dynamic_fn_fold_{fold}.txt\"\n",
    "\n",
    "    with open(log_file, \"w\") as log:\n",
    "        result = subprocess.run(command, stdout=log, stderr=log)\n",
    "\n",
    "    if result.returncode == 0:\n",
    "        print(f\"Fold {fold} executed successfully. Logs saved to {log_file}\")\n",
    "    else:\n",
    "        print(f\"Fold {fold} encountered an error. Check logs at {log_file}\")"
   ]
  },
  {
   "cell_type": "markdown",
   "metadata": {},
   "source": [
    "## Zero Shot Summary"
   ]
  },
  {
   "cell_type": "code",
   "execution_count": 55,
   "metadata": {},
   "outputs": [
    {
     "name": "stdout",
     "output_type": "stream",
     "text": [
      "Fold 1 executed successfully. Logs saved to ../../exp_logs/breast_8B/zero_shot_summary_fold_1.txt\n",
      "Fold 2 executed successfully. Logs saved to ../../exp_logs/breast_8B/zero_shot_summary_fold_2.txt\n",
      "Fold 3 executed successfully. Logs saved to ../../exp_logs/breast_8B/zero_shot_summary_fold_3.txt\n",
      "Fold 4 executed successfully. Logs saved to ../../exp_logs/breast_8B/zero_shot_summary_fold_4.txt\n",
      "Fold 5 executed successfully. Logs saved to ../../exp_logs/breast_8B/zero_shot_summary_fold_5.txt\n"
     ]
    }
   ],
   "source": [
    "for fold in range(1, 6):\n",
    "    command = [\n",
    "        \"/home/srinivasb/.conda/envs/radoncB/bin/python3\",\n",
    "        \"run_dynamic_prompt.py\",\n",
    "        \"--exp_type\", \"breast_8B/zero_shot_summary\",\n",
    "        \"--fold_number\", str(fold),\n",
    "        \"--large\", \"False\",\n",
    "        \"--num_gpus\", \"4\",\n",
    "        \"--zero_shot\", \"True\",\n",
    "        \"--examples\", f\"../../example_file_{fold}.csv\",\n",
    "        \"--test_data\", f\"../../test_file_{fold}.csv\",\n",
    "        \"--summary\", \"True\",\n",
    "        \"--cancer_type\", \"breast\"\n",
    "    ]\n",
    "\n",
    "    log_file = f\"../../exp_logs/breast_8B/zero_shot_summary_fold_{fold}.txt\"\n",
    "\n",
    "    with open(log_file, \"w\") as log:\n",
    "        result = subprocess.run(command, stdout=log, stderr=log)\n",
    "\n",
    "    if result.returncode == 0:\n",
    "        print(f\"Fold {fold} executed successfully. Logs saved to {log_file}\")\n",
    "    else:\n",
    "        print(f\"Fold {fold} encountered an error. Check logs at {log_file}\")\n"
   ]
  },
  {
   "cell_type": "markdown",
   "metadata": {},
   "source": [
    "## Dynamic Summary"
   ]
  },
  {
   "cell_type": "code",
   "execution_count": 23,
   "metadata": {},
   "outputs": [
    {
     "name": "stdout",
     "output_type": "stream",
     "text": [
      "Fold 1 executed successfully. Logs saved to ../../exp_logs/breast_8B/dynamic_summary_fold_1.txt\n",
      "Fold 2 executed successfully. Logs saved to ../../exp_logs/breast_8B/dynamic_summary_fold_2.txt\n",
      "Fold 3 executed successfully. Logs saved to ../../exp_logs/breast_8B/dynamic_summary_fold_3.txt\n",
      "Fold 4 executed successfully. Logs saved to ../../exp_logs/breast_8B/dynamic_summary_fold_4.txt\n",
      "Fold 5 executed successfully. Logs saved to ../../exp_logs/breast_8B/dynamic_summary_fold_5.txt\n"
     ]
    }
   ],
   "source": [
    "for fold in range(1, 6):\n",
    "    command = [\n",
    "        \"/home/srinivasb/.conda/envs/radoncB/bin/python3\",\n",
    "        \"run_dynamic_prompt.py\",\n",
    "        \"--exp_type\", \"breast_8B/dynamic_summary\",\n",
    "        \"--fold_number\", str(fold),\n",
    "        \"--large\", \"False\",\n",
    "        \"--num_gpus\", \"4\",\n",
    "        \"--zero_shot\", \"False\",\n",
    "        \"--examples\", f\"../../example_file_{fold}.csv\",\n",
    "        \"--test_data\", f\"../../test_file_{fold}.csv\",\n",
    "        \"--summary\", \"True\",\n",
    "        \"--cancer_type\", \"breast\"\n",
    "    ]\n",
    "\n",
    "    log_file = f\"../../exp_logs/breast_8B/dynamic_summary_fold_{fold}.txt\"\n",
    "\n",
    "    with open(log_file, \"w\") as log:\n",
    "        result = subprocess.run(command, stdout=log, stderr=log)\n",
    "\n",
    "    if result.returncode == 0:\n",
    "        print(f\"Fold {fold} executed successfully. Logs saved to {log_file}\")\n",
    "    else:\n",
    "        print(f\"Fold {fold} encountered an error. Check logs at {log_file}\")"
   ]
  },
  {
   "cell_type": "markdown",
   "metadata": {},
   "source": [
    "# Run the pipeline - 70B Breast Experiments\n",
    "---"
   ]
  },
  {
   "cell_type": "markdown",
   "metadata": {},
   "source": [
    "## Zero Shot Full Notes"
   ]
  },
  {
   "cell_type": "code",
   "execution_count": null,
   "metadata": {},
   "outputs": [
    {
     "name": "stdout",
     "output_type": "stream",
     "text": [
      "Fold 1 executed successfully. Logs saved to ../../exp_logs/breast_70B/zero_shot_fn_fold_1.txt\n",
      "Fold 2 executed successfully. Logs saved to ../../exp_logs/breast_70B/zero_shot_fn_fold_2.txt\n",
      "Fold 3 executed successfully. Logs saved to ../../exp_logs/breast_70B/zero_shot_fn_fold_3.txt\n",
      "Fold 4 executed successfully. Logs saved to ../../exp_logs/breast_70B/zero_shot_fn_fold_4.txt\n",
      "Fold 5 executed successfully. Logs saved to ../../exp_logs/breast_70B/zero_shot_fn_fold_5.txt\n"
     ]
    }
   ],
   "source": [
    "for fold in range(1, 6):\n",
    "    command = [\n",
    "        \"/home/srinivasb/.conda/envs/radoncB/bin/python3\",\n",
    "        \"run_dynamic_prompt.py\",\n",
    "        \"--exp_type\", \"breast_70B/zero_shot_fn\",\n",
    "        \"--fold_number\", str(fold),\n",
    "        \"--large\", \"True\",\n",
    "        \"--num_gpus\", \"8\",\n",
    "        \"--zero_shot\", \"True\",\n",
    "        \"--examples\", f\"../../example_file_{fold}.csv\",\n",
    "        \"--test_data\", f\"../../test_file_{fold}.csv\",\n",
    "        \"--summary\", \"False\",\n",
    "        \"--vector_db\", \"/data/llm_shared/jina_embs/jina_embs_breast.pkl\",\n",
    "        \"--cancer_type\", \"breast\"\n",
    "    ]\n",
    "\n",
    "    log_file = f\"../../exp_logs/breast_70B/zero_shot_fn_fold_{fold}.txt\"\n",
    "\n",
    "    with open(log_file, \"w\") as log:\n",
    "        result = subprocess.run(command, stdout=log, stderr=log)\n",
    "\n",
    "    if result.returncode == 0:\n",
    "        print(f\"Fold {fold} executed successfully. Logs saved to {log_file}\")\n",
    "    else:\n",
    "        print(f\"Fold {fold} encountered an error. Check logs at {log_file}\")"
   ]
  },
  {
   "cell_type": "markdown",
   "metadata": {},
   "source": [
    "## Dynamic Full Notes"
   ]
  },
  {
   "cell_type": "code",
   "execution_count": null,
   "metadata": {},
   "outputs": [
    {
     "name": "stdout",
     "output_type": "stream",
     "text": [
      "Fold 1 executed successfully. Logs saved to ../../exp_logs/breast_70B/dynamic_fn_fold_1.txt\n",
      "Fold 2 executed successfully. Logs saved to ../../exp_logs/breast_70B/dynamic_fn_fold_2.txt\n",
      "Fold 3 executed successfully. Logs saved to ../../exp_logs/breast_70B/dynamic_fn_fold_3.txt\n",
      "Fold 4 executed successfully. Logs saved to ../../exp_logs/breast_70B/dynamic_fn_fold_4.txt\n",
      "Fold 5 executed successfully. Logs saved to ../../exp_logs/breast_70B/dynamic_fn_fold_5.txt\n"
     ]
    }
   ],
   "source": [
    "for fold in range(1, 6):\n",
    "    command = [\n",
    "        \"/home/srinivasb/.conda/envs/radoncB/bin/python3\",\n",
    "        \"run_dynamic_prompt.py\",\n",
    "        \"--exp_type\", \"breast_70B/dynamic_fn\",\n",
    "        \"--fold_number\", str(fold),\n",
    "        \"--large\", \"True\",\n",
    "        \"--num_gpus\", \"8\",\n",
    "        \"--zero_shot\", \"False\",\n",
    "        \"--examples\", f\"../../example_file_{fold}.csv\",\n",
    "        \"--test_data\", f\"../../test_file_{fold}.csv\",\n",
    "        \"--summary\", \"False\",\n",
    "        \"--vector_db\", \"/data/llm_shared/jina_embs/jina_embs_breast.pkl\",\n",
    "        \"--cancer_type\", \"breast\"\n",
    "    ]\n",
    "\n",
    "    log_file = f\"../../exp_logs/breast_70B/dynamic_fn_fold_{fold}.txt\"\n",
    "\n",
    "    with open(log_file, \"w\") as log:\n",
    "        result = subprocess.run(command, stdout=log, stderr=log)\n",
    "\n",
    "    if result.returncode == 0:\n",
    "        print(f\"Fold {fold} executed successfully. Logs saved to {log_file}\")\n",
    "    else:\n",
    "        print(f\"Fold {fold} encountered an error. Check logs at {log_file}\")"
   ]
  },
  {
   "cell_type": "markdown",
   "metadata": {},
   "source": [
    "## Zero Shot Summary"
   ]
  },
  {
   "cell_type": "code",
   "execution_count": null,
   "metadata": {},
   "outputs": [
    {
     "name": "stdout",
     "output_type": "stream",
     "text": [
      "Fold 1 executed successfully. Logs saved to ../../exp_logs/breast_70B/zero_shot_summary_fold_1.txt\n",
      "Fold 2 executed successfully. Logs saved to ../../exp_logs/breast_70B/zero_shot_summary_fold_2.txt\n",
      "Fold 3 executed successfully. Logs saved to ../../exp_logs/breast_70B/zero_shot_summary_fold_3.txt\n",
      "Fold 4 executed successfully. Logs saved to ../../exp_logs/breast_70B/zero_shot_summary_fold_4.txt\n",
      "Fold 5 executed successfully. Logs saved to ../../exp_logs/breast_70B/zero_shot_summary_fold_5.txt\n"
     ]
    }
   ],
   "source": [
    "for fold in range(1, 6):\n",
    "    command = [\n",
    "        \"/home/srinivasb/.conda/envs/radoncB/bin/python3\",\n",
    "        \"run_dynamic_prompt.py\",\n",
    "        \"--exp_type\", \"breast_70B/zero_shot_summary\",\n",
    "        \"--fold_number\", str(fold),\n",
    "        \"--large\", \"True\",\n",
    "        \"--num_gpus\", \"8\",\n",
    "        \"--zero_shot\", \"True\",\n",
    "        \"--examples\", f\"../../example_file_{fold}.csv\",\n",
    "        \"--test_data\", f\"../../test_file_{fold}.csv\",\n",
    "        \"--summary\", \"True\",\n",
    "        \"--cancer_type\", \"breast\"\n",
    "    ]\n",
    "\n",
    "    log_file = f\"../../exp_logs/breast_70B/zero_shot_summary_fold_{fold}.txt\"\n",
    "\n",
    "    with open(log_file, \"w\") as log:\n",
    "        result = subprocess.run(command, stdout=log, stderr=log)\n",
    "\n",
    "    if result.returncode == 0:\n",
    "        print(f\"Fold {fold} executed successfully. Logs saved to {log_file}\")\n",
    "    else:\n",
    "        print(f\"Fold {fold} encountered an error. Check logs at {log_file}\")"
   ]
  },
  {
   "cell_type": "markdown",
   "metadata": {},
   "source": [
    "## Dynamic Summary"
   ]
  },
  {
   "cell_type": "code",
   "execution_count": null,
   "metadata": {},
   "outputs": [
    {
     "name": "stdout",
     "output_type": "stream",
     "text": [
      "Fold 1 executed successfully. Logs saved to ../../exp_logs/breast_70B/dynamic_summary_fold_1.txt\n",
      "Fold 2 executed successfully. Logs saved to ../../exp_logs/breast_70B/dynamic_summary_fold_2.txt\n",
      "Fold 3 executed successfully. Logs saved to ../../exp_logs/breast_70B/dynamic_summary_fold_3.txt\n",
      "Fold 4 executed successfully. Logs saved to ../../exp_logs/breast_70B/dynamic_summary_fold_4.txt\n",
      "Fold 5 executed successfully. Logs saved to ../../exp_logs/breast_70B/dynamic_summary_fold_5.txt\n"
     ]
    }
   ],
   "source": [
    "for fold in range(1, 6):\n",
    "    command = [\n",
    "        \"/home/srinivasb/.conda/envs/radoncB/bin/python3\",\n",
    "        \"run_dynamic_prompt.py\",\n",
    "        \"--exp_type\", \"breast_70B/dynamic_summary\",\n",
    "        \"--fold_number\", str(fold),\n",
    "        \"--large\", \"True\",\n",
    "        \"--num_gpus\", \"8\",\n",
    "        \"--zero_shot\", \"False\",\n",
    "        \"--examples\", f\"../../example_file_{fold}.csv\",\n",
    "        \"--test_data\", f\"../../test_file_{fold}.csv\",\n",
    "        \"--summary\", \"True\",\n",
    "        \"--cancer_type\", \"breast\"\n",
    "    ]\n",
    "\n",
    "    log_file = f\"../../exp_logs/breast_70B/dynamic_summary_fold_{fold}.txt\"\n",
    "\n",
    "    with open(log_file, \"w\") as log:\n",
    "        result = subprocess.run(command, stdout=log, stderr=log)\n",
    "\n",
    "    if result.returncode == 0:\n",
    "        print(f\"Fold {fold} executed successfully. Logs saved to {log_file}\")\n",
    "    else:\n",
    "        print(f\"Fold {fold} encountered an error. Check logs at {log_file}\")"
   ]
  },
  {
   "cell_type": "markdown",
   "metadata": {},
   "source": [
    "# Run the pipeline - 8B Glioma Experiments\n",
    "---"
   ]
  },
  {
   "cell_type": "markdown",
   "metadata": {},
   "source": [
    "## Zero Shot Full Notes"
   ]
  },
  {
   "cell_type": "code",
   "execution_count": null,
   "metadata": {},
   "outputs": [
    {
     "name": "stdout",
     "output_type": "stream",
     "text": [
      "Fold 1 executed successfully. Logs saved to ../../exp_logs/glioma_8B/zero_shot_fn_fold_1.txt\n",
      "Fold 2 executed successfully. Logs saved to ../../exp_logs/glioma_8B/zero_shot_fn_fold_2.txt\n",
      "Fold 3 executed successfully. Logs saved to ../../exp_logs/glioma_8B/zero_shot_fn_fold_3.txt\n",
      "Fold 4 executed successfully. Logs saved to ../../exp_logs/glioma_8B/zero_shot_fn_fold_4.txt\n",
      "Fold 5 executed successfully. Logs saved to ../../exp_logs/glioma_8B/zero_shot_fn_fold_5.txt\n"
     ]
    }
   ],
   "source": [
    "for fold in range(1, 6):\n",
    "    command = [\n",
    "        \"/home/srinivasb/.conda/envs/radoncB/bin/python3\",\n",
    "        \"run_dynamic_prompt.py\",\n",
    "        \"--exp_type\", \"glioma_8B/zero_shot_fn\",\n",
    "        \"--fold_number\", str(fold),\n",
    "        \"--large\", \"False\",\n",
    "        \"--num_gpus\", \"4\",\n",
    "        \"--zero_shot\", \"True\",\n",
    "        \"--examples\", f\"../../example_file_{fold}.csv\",\n",
    "        \"--test_data\", f\"../../test_file_{fold}.csv\",\n",
    "        \"--summary\", \"False\",\n",
    "        \"--vector_db\", \"/data/llm_shared/jina_embs/jina_embs_glioma.pkl\",\n",
    "        \"--cancer_type\", \"glioma\"\n",
    "    ]\n",
    "\n",
    "    log_file = f\"../../exp_logs/glioma_8B/zero_shot_fn_fold_{fold}.txt\"\n",
    "\n",
    "    with open(log_file, \"w\") as log:\n",
    "        result = subprocess.run(command, stdout=log, stderr=log)\n",
    "\n",
    "    if result.returncode == 0:\n",
    "        print(f\"Fold {fold} executed successfully. Logs saved to {log_file}\")\n",
    "    else:\n",
    "        print(f\"Fold {fold} encountered an error. Check logs at {log_file}\")"
   ]
  },
  {
   "cell_type": "markdown",
   "metadata": {},
   "source": [
    "## Dynamic Full Notes"
   ]
  },
  {
   "cell_type": "code",
   "execution_count": null,
   "metadata": {},
   "outputs": [
    {
     "name": "stdout",
     "output_type": "stream",
     "text": [
      "Fold 1 executed successfully. Logs saved to ../../exp_logs/glioma_8B/dynamic_fn_fold_1.txt\n",
      "Fold 2 executed successfully. Logs saved to ../../exp_logs/glioma_8B/dynamic_fn_fold_2.txt\n",
      "Fold 3 executed successfully. Logs saved to ../../exp_logs/glioma_8B/dynamic_fn_fold_3.txt\n",
      "Fold 4 executed successfully. Logs saved to ../../exp_logs/glioma_8B/dynamic_fn_fold_4.txt\n",
      "Fold 5 executed successfully. Logs saved to ../../exp_logs/glioma_8B/dynamic_fn_fold_5.txt\n"
     ]
    }
   ],
   "source": [
    "for fold in range(1, 6):\n",
    "    command = [\n",
    "        \"/home/srinivasb/.conda/envs/radoncB/bin/python3\",\n",
    "        \"run_dynamic_prompt.py\",\n",
    "        \"--exp_type\", \"glioma_8B/zero_shot_fn\",\n",
    "        \"--fold_number\", str(fold),\n",
    "        \"--large\", \"False\",\n",
    "        \"--num_gpus\", \"4\",\n",
    "        \"--zero_shot\", \"False\",\n",
    "        \"--examples\", f\"../../example_file_{fold}.csv\",\n",
    "        \"--test_data\", f\"../../test_file_{fold}.csv\",\n",
    "        \"--summary\", \"False\",\n",
    "        \"--vector_db\", \"/data/llm_shared/jina_embs/jina_embs_glioma.pkl\",\n",
    "        \"--cancer_type\", \"glioma\"\n",
    "    ]\n",
    "\n",
    "    log_file = f\"../../exp_logs/glioma_8B/dynamic_fn_fold_{fold}.txt\"\n",
    "\n",
    "    with open(log_file, \"w\") as log:\n",
    "        result = subprocess.run(command, stdout=log, stderr=log)\n",
    "\n",
    "    if result.returncode == 0:\n",
    "        print(f\"Fold {fold} executed successfully. Logs saved to {log_file}\")\n",
    "    else:\n",
    "        print(f\"Fold {fold} encountered an error. Check logs at {log_file}\")"
   ]
  },
  {
   "cell_type": "markdown",
   "metadata": {},
   "source": [
    "## Zero Shot Summary"
   ]
  },
  {
   "cell_type": "code",
   "execution_count": null,
   "metadata": {},
   "outputs": [
    {
     "name": "stdout",
     "output_type": "stream",
     "text": [
      "Fold 1 executed successfully. Logs saved to ../../exp_logs/glioma_8B/zero_shot_summary_fold_1.txt\n",
      "Fold 2 executed successfully. Logs saved to ../../exp_logs/glioma_8B/zero_shot_summary_fold_2.txt\n",
      "Fold 3 executed successfully. Logs saved to ../../exp_logs/glioma_8B/zero_shot_summary_fold_3.txt\n",
      "Fold 4 executed successfully. Logs saved to ../../exp_logs/glioma_8B/zero_shot_summary_fold_4.txt\n",
      "Fold 5 executed successfully. Logs saved to ../../exp_logs/glioma_8B/zero_shot_summary_fold_5.txt\n"
     ]
    }
   ],
   "source": [
    "for fold in range(1, 6):\n",
    "    command = [\n",
    "        \"/home/srinivasb/.conda/envs/radoncB/bin/python3\",\n",
    "        \"run_dynamic_prompt.py\",\n",
    "        \"--exp_type\", \"glioma_8B/zero_shot_summary\",\n",
    "        \"--fold_number\", str(fold),\n",
    "        \"--large\", \"False\",\n",
    "        \"--num_gpus\", \"4\",\n",
    "        \"--zero_shot\", \"True\",\n",
    "        \"--examples\", f\"../../example_file_{fold}.csv\",\n",
    "        \"--test_data\", f\"../../test_file_{fold}.csv\",\n",
    "        \"--summary\", \"True\",\n",
    "        \"--cancer_type\", \"glioma\"\n",
    "    ]\n",
    "\n",
    "    log_file = f\"../../exp_logs/glioma_8B/zero_shot_summary_fold_{fold}.txt\"\n",
    "\n",
    "    with open(log_file, \"w\") as log:\n",
    "        result = subprocess.run(command, stdout=log, stderr=log)\n",
    "\n",
    "    if result.returncode == 0:\n",
    "        print(f\"Fold {fold} executed successfully. Logs saved to {log_file}\")\n",
    "    else:\n",
    "        print(f\"Fold {fold} encountered an error. Check logs at {log_file}\")"
   ]
  },
  {
   "cell_type": "markdown",
   "metadata": {},
   "source": [
    "## Dynamic Summary"
   ]
  },
  {
   "cell_type": "code",
   "execution_count": null,
   "metadata": {},
   "outputs": [
    {
     "name": "stdout",
     "output_type": "stream",
     "text": [
      "Fold 1 executed successfully. Logs saved to ../../exp_logs/glioma_8B/dynamic_summary_fold_1.txt\n",
      "Fold 2 executed successfully. Logs saved to ../../exp_logs/glioma_8B/dynamic_summary_fold_2.txt\n",
      "Fold 3 executed successfully. Logs saved to ../../exp_logs/glioma_8B/dynamic_summary_fold_3.txt\n",
      "Fold 4 executed successfully. Logs saved to ../../exp_logs/glioma_8B/dynamic_summary_fold_4.txt\n",
      "Fold 5 executed successfully. Logs saved to ../../exp_logs/glioma_8B/dynamic_summary_fold_5.txt\n"
     ]
    }
   ],
   "source": [
    "for fold in range(1, 6):\n",
    "    command = [\n",
    "        \"/home/srinivasb/.conda/envs/radoncB/bin/python3\",\n",
    "        \"run_dynamic_prompt.py\",\n",
    "        \"--exp_type\", \"glioma_8B/dynamic_summary\",\n",
    "        \"--fold_number\", str(fold),\n",
    "        \"--large\", \"False\",\n",
    "        \"--num_gpus\", \"4\",\n",
    "        \"--zero_shot\", \"False\",\n",
    "        \"--examples\", f\"../../example_file_{fold}.csv\",\n",
    "        \"--test_data\", f\"../../test_file_{fold}.csv\",\n",
    "        \"--summary\", \"True\",\n",
    "        \"--cancer_type\", \"glioma\"\n",
    "    ]\n",
    "\n",
    "    log_file = f\"../../exp_logs/glioma_8B/dynamic_summary_fold_{fold}.txt\"\n",
    "\n",
    "    with open(log_file, \"w\") as log:\n",
    "        result = subprocess.run(command, stdout=log, stderr=log)\n",
    "\n",
    "    if result.returncode == 0:\n",
    "        print(f\"Fold {fold} executed successfully. Logs saved to {log_file}\")\n",
    "    else:\n",
    "        print(f\"Fold {fold} encountered an error. Check logs at {log_file}\")"
   ]
  },
  {
   "cell_type": "markdown",
   "metadata": {},
   "source": [
    "# Run the pipeline - 70B Glioma Experiments\n",
    "---"
   ]
  },
  {
   "cell_type": "markdown",
   "metadata": {},
   "source": [
    "## Zero Shot Full Notes"
   ]
  },
  {
   "cell_type": "code",
   "execution_count": null,
   "metadata": {},
   "outputs": [
    {
     "name": "stdout",
     "output_type": "stream",
     "text": [
      "Fold 1 executed successfully. Logs saved to ../../exp_logs/glioma_70B/zero_shot_fn_fold_1.txt\n",
      "Fold 2 executed successfully. Logs saved to ../../exp_logs/glioma_70B/zero_shot_fn_fold_2.txt\n",
      "Fold 3 executed successfully. Logs saved to ../../exp_logs/glioma_70B/zero_shot_fn_fold_3.txt\n",
      "Fold 4 executed successfully. Logs saved to ../../exp_logs/glioma_70B/zero_shot_fn_fold_4.txt\n",
      "Fold 5 executed successfully. Logs saved to ../../exp_logs/glioma_70B/zero_shot_fn_fold_5.txt\n"
     ]
    }
   ],
   "source": [
    "for fold in range(1, 6):\n",
    "    command = [\n",
    "        \"/home/srinivasb/.conda/envs/radoncB/bin/python3\",\n",
    "        \"run_dynamic_prompt.py\",\n",
    "        \"--exp_type\", \"glioma_70B/zero_shot_fn\",\n",
    "        \"--fold_number\", str(fold),\n",
    "        \"--large\", \"True\",\n",
    "        \"--num_gpus\", \"8\",\n",
    "        \"--zero_shot\", \"True\",\n",
    "        \"--examples\", f\"../../example_file_{fold}.csv\",\n",
    "        \"--test_data\", f\"../../test_file_{fold}.csv\",\n",
    "        \"--summary\", \"False\",\n",
    "        \"--vector_db\", \"/data/llm_shared/jina_embs/jina_embs_glioma.pkl\",\n",
    "        \"--cancer_type\", \"glioma\"\n",
    "    ]\n",
    "\n",
    "    log_file = f\"../../exp_logs/glioma_70B/zero_shot_fn_fold_{fold}.txt\"\n",
    "\n",
    "    with open(log_file, \"w\") as log:\n",
    "        result = subprocess.run(command, stdout=log, stderr=log)\n",
    "\n",
    "    if result.returncode == 0:\n",
    "        print(f\"Fold {fold} executed successfully. Logs saved to {log_file}\")\n",
    "    else:\n",
    "        print(f\"Fold {fold} encountered an error. Check logs at {log_file}\")"
   ]
  },
  {
   "cell_type": "markdown",
   "metadata": {},
   "source": [
    "## Dynamic Full Notes"
   ]
  },
  {
   "cell_type": "code",
   "execution_count": null,
   "metadata": {},
   "outputs": [
    {
     "name": "stdout",
     "output_type": "stream",
     "text": [
      "Fold 1 executed successfully. Logs saved to ../../exp_logs/glioma_70B/dynamic_fn_fold_1.txt\n",
      "Fold 2 executed successfully. Logs saved to ../../exp_logs/glioma_70B/dynamic_fn_fold_2.txt\n",
      "Fold 3 executed successfully. Logs saved to ../../exp_logs/glioma_70B/dynamic_fn_fold_3.txt\n",
      "Fold 4 executed successfully. Logs saved to ../../exp_logs/glioma_70B/dynamic_fn_fold_4.txt\n",
      "Fold 5 executed successfully. Logs saved to ../../exp_logs/glioma_70B/dynamic_fn_fold_5.txt\n"
     ]
    }
   ],
   "source": [
    "for fold in range(1, 6):\n",
    "    command = [\n",
    "        \"/home/srinivasb/.conda/envs/radoncB/bin/python3\",\n",
    "        \"run_dynamic_prompt.py\",\n",
    "        \"--exp_type\", \"glioma_70B/zero_shot_fn\",\n",
    "        \"--fold_number\", str(fold),\n",
    "        \"--large\", \"True\",\n",
    "        \"--num_gpus\", \"8\",\n",
    "        \"--zero_shot\", \"False\",\n",
    "        \"--examples\", f\"../../example_file_{fold}.csv\",\n",
    "        \"--test_data\", f\"../../test_file_{fold}.csv\",\n",
    "        \"--summary\", \"False\",\n",
    "        \"--vector_db\", \"/data/llm_shared/jina_embs/jina_embs_glioma.pkl\",\n",
    "        \"--cancer_type\", \"glioma\"\n",
    "    ]\n",
    "\n",
    "    log_file = f\"../../exp_logs/glioma_70B/dynamic_fn_fold_{fold}.txt\"\n",
    "\n",
    "    with open(log_file, \"w\") as log:\n",
    "        result = subprocess.run(command, stdout=log, stderr=log)\n",
    "\n",
    "    if result.returncode == 0:\n",
    "        print(f\"Fold {fold} executed successfully. Logs saved to {log_file}\")\n",
    "    else:\n",
    "        print(f\"Fold {fold} encountered an error. Check logs at {log_file}\")"
   ]
  },
  {
   "cell_type": "markdown",
   "metadata": {},
   "source": [
    "## Zero Shot Summary"
   ]
  },
  {
   "cell_type": "code",
   "execution_count": null,
   "metadata": {},
   "outputs": [
    {
     "name": "stdout",
     "output_type": "stream",
     "text": [
      "Fold 1 executed successfully. Logs saved to ../../exp_logs/glioma_70B/zero_shot_summary_fold_1.txt\n",
      "Fold 2 executed successfully. Logs saved to ../../exp_logs/glioma_70B/zero_shot_summary_fold_2.txt\n",
      "Fold 3 executed successfully. Logs saved to ../../exp_logs/glioma_70B/zero_shot_summary_fold_3.txt\n",
      "Fold 4 executed successfully. Logs saved to ../../exp_logs/glioma_70B/zero_shot_summary_fold_4.txt\n",
      "Fold 5 executed successfully. Logs saved to ../../exp_logs/glioma_70B/zero_shot_summary_fold_5.txt\n"
     ]
    }
   ],
   "source": [
    "for fold in range(1, 6):\n",
    "    command = [\n",
    "        \"/home/srinivasb/.conda/envs/radoncB/bin/python3\",\n",
    "        \"run_dynamic_prompt.py\",\n",
    "        \"--exp_type\", \"glioma_70B/zero_shot_summary\",\n",
    "        \"--fold_number\", str(fold),\n",
    "        \"--large\", \"True\",\n",
    "        \"--num_gpus\", \"8\",\n",
    "        \"--zero_shot\", \"True\",\n",
    "        \"--examples\", f\"../../example_file_{fold}.csv\",\n",
    "        \"--test_data\", f\"../../test_file_{fold}.csv\",\n",
    "        \"--summary\", \"True\",\n",
    "        \"--cancer_type\", \"glioma\"\n",
    "    ]\n",
    "\n",
    "    log_file = f\"../../exp_logs/glioma_70B/zero_shot_summary_fold_{fold}.txt\"\n",
    "\n",
    "    with open(log_file, \"w\") as log:\n",
    "        result = subprocess.run(command, stdout=log, stderr=log)\n",
    "\n",
    "    if result.returncode == 0:\n",
    "        print(f\"Fold {fold} executed successfully. Logs saved to {log_file}\")\n",
    "    else:\n",
    "        print(f\"Fold {fold} encountered an error. Check logs at {log_file}\")"
   ]
  },
  {
   "cell_type": "markdown",
   "metadata": {},
   "source": [
    "## Dynamic Summary"
   ]
  },
  {
   "cell_type": "code",
   "execution_count": null,
   "metadata": {},
   "outputs": [
    {
     "name": "stdout",
     "output_type": "stream",
     "text": [
      "Fold 1 executed successfully. Logs saved to ../../exp_logs/glioma_70B/dynamic_summary_fold_1.txt\n",
      "Fold 2 executed successfully. Logs saved to ../../exp_logs/glioma_70B/dynamic_summary_fold_2.txt\n",
      "Fold 3 executed successfully. Logs saved to ../../exp_logs/glioma_70B/dynamic_summary_fold_3.txt\n",
      "Fold 4 executed successfully. Logs saved to ../../exp_logs/glioma_70B/dynamic_summary_fold_4.txt\n",
      "Fold 5 executed successfully. Logs saved to ../../exp_logs/glioma_70B/dynamic_summary_fold_5.txt\n"
     ]
    }
   ],
   "source": [
    "for fold in range(1, 6):\n",
    "    command = [\n",
    "        \"/home/srinivasb/.conda/envs/radoncB/bin/python3\",\n",
    "        \"run_dynamic_prompt.py\",\n",
    "        \"--exp_type\", \"glioma_70B/dynamic_summary\",\n",
    "        \"--fold_number\", str(fold),\n",
    "        \"--large\", \"True\",\n",
    "        \"--num_gpus\", \"8\",\n",
    "        \"--zero_shot\", \"False\",\n",
    "        \"--examples\", f\"../../example_file_{fold}.csv\",\n",
    "        \"--test_data\", f\"../../test_file_{fold}.csv\",\n",
    "        \"--summary\", \"True\",\n",
    "        \"--cancer_type\", \"glioma\"\n",
    "    ]\n",
    "\n",
    "    log_file = f\"../../exp_logs/glioma_70B/dynamic_summary_fold_{fold}.txt\"\n",
    "\n",
    "    with open(log_file, \"w\") as log:\n",
    "        result = subprocess.run(command, stdout=log, stderr=log)\n",
    "\n",
    "    if result.returncode == 0:\n",
    "        print(f\"Fold {fold} executed successfully. Logs saved to {log_file}\")\n",
    "    else:\n",
    "        print(f\"Fold {fold} encountered an error. Check logs at {log_file}\")"
   ]
  },
  {
   "cell_type": "markdown",
   "metadata": {},
   "source": [
    "# BREAST RESULTS\n",
    "---"
   ]
  },
  {
   "cell_type": "code",
   "execution_count": null,
   "metadata": {},
   "outputs": [
    {
     "data": {
      "application/vnd.microsoft.datawrangler.viewer.v0+json": {
       "columns": [
        {
         "name": "index",
         "rawType": "int64",
         "type": "integer"
        },
        {
         "name": "Model",
         "rawType": "object",
         "type": "string"
        },
        {
         "name": "Accuracy",
         "rawType": "object",
         "type": "string"
        },
        {
         "name": "Precision",
         "rawType": "object",
         "type": "string"
        },
        {
         "name": "Recall",
         "rawType": "object",
         "type": "string"
        },
        {
         "name": "F1 Score",
         "rawType": "object",
         "type": "string"
        },
        {
         "name": "AUC",
         "rawType": "object",
         "type": "string"
        }
       ],
       "conversionMethod": "pd.DataFrame",
       "ref": "0c41dc16-a163-4cdc-a5aa-f3c120022503",
       "rows": [
        [
         "0",
         "breast_70B/dynamic_fn",
         "0.8309 ± 0.02",
         "0.8156 ± 0.02",
         "0.9872 ± 0.01",
         "0.9 ± 0.0",
         "0.7736 ± 0.04"
        ],
        [
         "1",
         "breast_70B/dynamic_summary",
         "0.7985 ± 0.05",
         "0.8657 ± 0.03",
         "0.8759 ± 0.06",
         "0.87 ± 0.03",
         "0.7414 ± 0.06"
        ],
        [
         "2",
         "breast_70B/zero_shot_fn",
         "0.7774 ± 0.01",
         "0.7765 ± 0.01",
         "1.0 ± 0.0",
         "0.9 ± 0.0",
         "0.765 ± 0.05"
        ],
        [
         "3",
         "breast_70B/zero_shot_summary",
         "0.8204 ± 0.04",
         "0.8661 ± 0.03",
         "0.9095 ± 0.05",
         "0.888 ± 0.03",
         "0.7532 ± 0.07"
        ],
        [
         "4",
         "breast_8B/dynamic_fn",
         "0.825 ± 0.02",
         "0.8338 ± 0.01",
         "0.9666 ± 0.01",
         "0.8948 ± 0.01",
         "0.7405 ± 0.03"
        ],
        [
         "5",
         "breast_8B/dynamic_summary",
         "0.832 ± 0.02",
         "0.8417 ± 0.03",
         "0.9769 ± 0.01",
         "0.9 ± 0.0",
         "0.791 ± 0.05"
        ],
        [
         "6",
         "breast_8B/zero_shot_fn",
         "0.8267 ± 0.01",
         "0.8416 ± 0.01",
         "0.9562 ± 0.02",
         "0.8955 ± 0.01",
         "0.7431 ± 0.04"
        ],
        [
         "7",
         "breast_8B/zero_shot_summary",
         "0.8283 ± 0.02",
         "0.8267 ± 0.02",
         "0.9845 ± 0.02",
         "0.898 ± 0.01",
         "0.7455 ± 0.03"
        ]
       ],
       "shape": {
        "columns": 6,
        "rows": 8
       }
      },
      "text/html": [
       "<div>\n",
       "<style scoped>\n",
       "    .dataframe tbody tr th:only-of-type {\n",
       "        vertical-align: middle;\n",
       "    }\n",
       "\n",
       "    .dataframe tbody tr th {\n",
       "        vertical-align: top;\n",
       "    }\n",
       "\n",
       "    .dataframe thead th {\n",
       "        text-align: right;\n",
       "    }\n",
       "</style>\n",
       "<table border=\"1\" class=\"dataframe\">\n",
       "  <thead>\n",
       "    <tr style=\"text-align: right;\">\n",
       "      <th></th>\n",
       "      <th>Model</th>\n",
       "      <th>Accuracy</th>\n",
       "      <th>Precision</th>\n",
       "      <th>Recall</th>\n",
       "      <th>F1 Score</th>\n",
       "      <th>AUC</th>\n",
       "    </tr>\n",
       "  </thead>\n",
       "  <tbody>\n",
       "    <tr>\n",
       "      <th>0</th>\n",
       "      <td>breast_70B/dynamic_fn</td>\n",
       "      <td>0.8309 ± 0.02</td>\n",
       "      <td>0.8156 ± 0.02</td>\n",
       "      <td>0.9872 ± 0.01</td>\n",
       "      <td>0.9 ± 0.0</td>\n",
       "      <td>0.7736 ± 0.04</td>\n",
       "    </tr>\n",
       "    <tr>\n",
       "      <th>1</th>\n",
       "      <td>breast_70B/dynamic_summary</td>\n",
       "      <td>0.7985 ± 0.05</td>\n",
       "      <td>0.8657 ± 0.03</td>\n",
       "      <td>0.8759 ± 0.06</td>\n",
       "      <td>0.87 ± 0.03</td>\n",
       "      <td>0.7414 ± 0.06</td>\n",
       "    </tr>\n",
       "    <tr>\n",
       "      <th>2</th>\n",
       "      <td>breast_70B/zero_shot_fn</td>\n",
       "      <td>0.7774 ± 0.01</td>\n",
       "      <td>0.7765 ± 0.01</td>\n",
       "      <td>1.0 ± 0.0</td>\n",
       "      <td>0.9 ± 0.0</td>\n",
       "      <td>0.765 ± 0.05</td>\n",
       "    </tr>\n",
       "    <tr>\n",
       "      <th>3</th>\n",
       "      <td>breast_70B/zero_shot_summary</td>\n",
       "      <td>0.8204 ± 0.04</td>\n",
       "      <td>0.8661 ± 0.03</td>\n",
       "      <td>0.9095 ± 0.05</td>\n",
       "      <td>0.888 ± 0.03</td>\n",
       "      <td>0.7532 ± 0.07</td>\n",
       "    </tr>\n",
       "    <tr>\n",
       "      <th>4</th>\n",
       "      <td>breast_8B/dynamic_fn</td>\n",
       "      <td>0.825 ± 0.02</td>\n",
       "      <td>0.8338 ± 0.01</td>\n",
       "      <td>0.9666 ± 0.01</td>\n",
       "      <td>0.8948 ± 0.01</td>\n",
       "      <td>0.7405 ± 0.03</td>\n",
       "    </tr>\n",
       "    <tr>\n",
       "      <th>5</th>\n",
       "      <td>breast_8B/dynamic_summary</td>\n",
       "      <td>0.832 ± 0.02</td>\n",
       "      <td>0.8417 ± 0.03</td>\n",
       "      <td>0.9769 ± 0.01</td>\n",
       "      <td>0.9 ± 0.0</td>\n",
       "      <td>0.791 ± 0.05</td>\n",
       "    </tr>\n",
       "    <tr>\n",
       "      <th>6</th>\n",
       "      <td>breast_8B/zero_shot_fn</td>\n",
       "      <td>0.8267 ± 0.01</td>\n",
       "      <td>0.8416 ± 0.01</td>\n",
       "      <td>0.9562 ± 0.02</td>\n",
       "      <td>0.8955 ± 0.01</td>\n",
       "      <td>0.7431 ± 0.04</td>\n",
       "    </tr>\n",
       "    <tr>\n",
       "      <th>7</th>\n",
       "      <td>breast_8B/zero_shot_summary</td>\n",
       "      <td>0.8283 ± 0.02</td>\n",
       "      <td>0.8267 ± 0.02</td>\n",
       "      <td>0.9845 ± 0.02</td>\n",
       "      <td>0.898 ± 0.01</td>\n",
       "      <td>0.7455 ± 0.03</td>\n",
       "    </tr>\n",
       "  </tbody>\n",
       "</table>\n",
       "</div>"
      ],
      "text/plain": [
       "                          Model       Accuracy      Precision         Recall  \\\n",
       "0         breast_70B/dynamic_fn  0.8309 ± 0.02  0.8156 ± 0.02  0.9872 ± 0.01   \n",
       "1    breast_70B/dynamic_summary  0.7985 ± 0.05  0.8657 ± 0.03  0.8759 ± 0.06   \n",
       "2       breast_70B/zero_shot_fn  0.7774 ± 0.01  0.7765 ± 0.01      1.0 ± 0.0   \n",
       "3  breast_70B/zero_shot_summary  0.8204 ± 0.04  0.8661 ± 0.03  0.9095 ± 0.05   \n",
       "4          breast_8B/dynamic_fn   0.825 ± 0.02  0.8338 ± 0.01  0.9666 ± 0.01   \n",
       "5     breast_8B/dynamic_summary   0.832 ± 0.02  0.8417 ± 0.03  0.9769 ± 0.01   \n",
       "6        breast_8B/zero_shot_fn  0.8267 ± 0.01  0.8416 ± 0.01  0.9562 ± 0.02   \n",
       "7   breast_8B/zero_shot_summary  0.8283 ± 0.02  0.8267 ± 0.02  0.9845 ± 0.02   \n",
       "\n",
       "        F1 Score            AUC  \n",
       "0      0.9 ± 0.0  0.7736 ± 0.04  \n",
       "1    0.87 ± 0.03  0.7414 ± 0.06  \n",
       "2      0.9 ± 0.0   0.765 ± 0.05  \n",
       "3   0.888 ± 0.03  0.7532 ± 0.07  \n",
       "4  0.8948 ± 0.01  0.7405 ± 0.03  \n",
       "5      0.9 ± 0.0   0.791 ± 0.05  \n",
       "6  0.8955 ± 0.01  0.7431 ± 0.04  \n",
       "7   0.898 ± 0.01  0.7455 ± 0.03  "
      ]
     },
     "execution_count": 97,
     "metadata": {},
     "output_type": "execute_result"
    }
   ],
   "source": [
    "with open(\"breast_metrics.json\", \"r\") as file:\n",
    "    json_data = json.load(file)\n",
    "\n",
    "df_list = []\n",
    "for key, values in json_data.items():\n",
    "    temp_df = pd.DataFrame.from_dict(values, orient='index')\n",
    "    temp_df.insert(0, \"Model\", key)\n",
    "    df_list.append(temp_df)\n",
    "\n",
    "df = pd.concat(df_list).reset_index().rename(columns={\"index\": \"Level\"})\n",
    "df = df.drop(\"Level\", axis=1)\n",
    "\n",
    "summary_df = df.groupby(\"Model\").agg([\"mean\", \"std\"])\n",
    "summary_df.loc[:, summary_df.columns.get_level_values(1) == 'mean'] = summary_df.loc[:, summary_df.columns.get_level_values(1) == 'mean'].round(4)\n",
    "summary_df.loc[:, summary_df.columns.get_level_values(1) == 'std'] = summary_df.loc[:, summary_df.columns.get_level_values(1) == 'std'].round(2)\n",
    "\n",
    "combined_df = pd.DataFrame()\n",
    "for metric in summary_df.columns.get_level_values(0).unique():\n",
    "    combined_df[metric] = summary_df[[(metric, 'mean')]].astype(str).values.flatten() + \" ± \" + summary_df[[(metric, 'std')]].astype(str).values.flatten()\n",
    "\n",
    "combined_df['Model'] = summary_df.index\n",
    "combined_df = combined_df[['Model'] + [col for col in combined_df.columns if col != 'Model']]\n",
    "combined_df\n"
   ]
  },
  {
   "cell_type": "markdown",
   "metadata": {},
   "source": [
    "# GLIOMA RESULTS\n",
    "---"
   ]
  },
  {
   "cell_type": "code",
   "execution_count": null,
   "metadata": {},
   "outputs": [
    {
     "data": {
      "application/vnd.microsoft.datawrangler.viewer.v0+json": {
       "columns": [
        {
         "name": "index",
         "rawType": "int64",
         "type": "integer"
        },
        {
         "name": "Model",
         "rawType": "object",
         "type": "string"
        },
        {
         "name": "Accuracy",
         "rawType": "object",
         "type": "string"
        },
        {
         "name": "Precision",
         "rawType": "object",
         "type": "string"
        },
        {
         "name": "Recall",
         "rawType": "object",
         "type": "string"
        },
        {
         "name": "F1 Score",
         "rawType": "object",
         "type": "string"
        },
        {
         "name": "AUC",
         "rawType": "object",
         "type": "string"
        }
       ],
       "conversionMethod": "pd.DataFrame",
       "ref": "c46958b3-bf81-4ce9-b8bc-8167a2762cfd",
       "rows": [
        [
         "0",
         "glioma_70B/dynamic_fn",
         "0.7071 ± 0.03",
         "0.7369 ± 0.03",
         "0.822 ± 0.05",
         "0.7763 ± 0.03",
         "0.7649 ± 0.05"
        ],
        [
         "1",
         "glioma_70B/dynamic_summary",
         "0.7537 ± 0.03",
         "0.8311 ± 0.05",
         "0.7568 ± 0.05",
         "0.7906 ± 0.03",
         "0.8132 ± 0.04"
        ],
        [
         "2",
         "glioma_70B/zero_shot_fn",
         "0.6168 ± 0.01",
         "0.6159 ± 0.01",
         "1.0 ± 0.0",
         "0.7608 ± 0.01",
         "0.7422 ± 0.05"
        ],
        [
         "3",
         "glioma_70B/zero_shot_summary",
         "0.6779 ± 0.04",
         "0.7028 ± 0.03",
         "0.8967 ± 0.03",
         "0.7876 ± 0.02",
         "0.5705 ± 0.14"
        ],
        [
         "4",
         "glioma_8B/dynamic_fn",
         "0.6779 ± 0.07",
         "0.7667 ± 0.07",
         "0.6852 ± 0.08",
         "0.7 ± 0.07",
         "0.7525 ± 0.07"
        ],
        [
         "5",
         "glioma_8B/dynamic_summary",
         "0.7537 ± 0.02",
         "0.8218 ± 0.02",
         "0.7669 ± 0.06",
         "0.792 ± 0.03",
         "0.7751 ± 0.02"
        ],
        [
         "6",
         "glioma_8B/zero_shot_fn",
         "0.6569 ± 0.04",
         "0.6431 ± 0.02",
         "0.9966 ± 0.01",
         "0.8 ± 0.0",
         "0.7479 ± 0.09"
        ],
        [
         "7",
         "glioma_8B/zero_shot_summary",
         "0.6548 ± 0.02",
         "0.8427 ± 0.04",
         "0.541 ± 0.04",
         "0.658 ± 0.02",
         "0.7534 ± 0.02"
        ]
       ],
       "shape": {
        "columns": 6,
        "rows": 8
       }
      },
      "text/html": [
       "<div>\n",
       "<style scoped>\n",
       "    .dataframe tbody tr th:only-of-type {\n",
       "        vertical-align: middle;\n",
       "    }\n",
       "\n",
       "    .dataframe tbody tr th {\n",
       "        vertical-align: top;\n",
       "    }\n",
       "\n",
       "    .dataframe thead th {\n",
       "        text-align: right;\n",
       "    }\n",
       "</style>\n",
       "<table border=\"1\" class=\"dataframe\">\n",
       "  <thead>\n",
       "    <tr style=\"text-align: right;\">\n",
       "      <th></th>\n",
       "      <th>Model</th>\n",
       "      <th>Accuracy</th>\n",
       "      <th>Precision</th>\n",
       "      <th>Recall</th>\n",
       "      <th>F1 Score</th>\n",
       "      <th>AUC</th>\n",
       "    </tr>\n",
       "  </thead>\n",
       "  <tbody>\n",
       "    <tr>\n",
       "      <th>0</th>\n",
       "      <td>glioma_70B/dynamic_fn</td>\n",
       "      <td>0.7071 ± 0.03</td>\n",
       "      <td>0.7369 ± 0.03</td>\n",
       "      <td>0.822 ± 0.05</td>\n",
       "      <td>0.7763 ± 0.03</td>\n",
       "      <td>0.7649 ± 0.05</td>\n",
       "    </tr>\n",
       "    <tr>\n",
       "      <th>1</th>\n",
       "      <td>glioma_70B/dynamic_summary</td>\n",
       "      <td>0.7537 ± 0.03</td>\n",
       "      <td>0.8311 ± 0.05</td>\n",
       "      <td>0.7568 ± 0.05</td>\n",
       "      <td>0.7906 ± 0.03</td>\n",
       "      <td>0.8132 ± 0.04</td>\n",
       "    </tr>\n",
       "    <tr>\n",
       "      <th>2</th>\n",
       "      <td>glioma_70B/zero_shot_fn</td>\n",
       "      <td>0.6168 ± 0.01</td>\n",
       "      <td>0.6159 ± 0.01</td>\n",
       "      <td>1.0 ± 0.0</td>\n",
       "      <td>0.7608 ± 0.01</td>\n",
       "      <td>0.7422 ± 0.05</td>\n",
       "    </tr>\n",
       "    <tr>\n",
       "      <th>3</th>\n",
       "      <td>glioma_70B/zero_shot_summary</td>\n",
       "      <td>0.6779 ± 0.04</td>\n",
       "      <td>0.7028 ± 0.03</td>\n",
       "      <td>0.8967 ± 0.03</td>\n",
       "      <td>0.7876 ± 0.02</td>\n",
       "      <td>0.5705 ± 0.14</td>\n",
       "    </tr>\n",
       "    <tr>\n",
       "      <th>4</th>\n",
       "      <td>glioma_8B/dynamic_fn</td>\n",
       "      <td>0.6779 ± 0.07</td>\n",
       "      <td>0.7667 ± 0.07</td>\n",
       "      <td>0.6852 ± 0.08</td>\n",
       "      <td>0.7 ± 0.07</td>\n",
       "      <td>0.7525 ± 0.07</td>\n",
       "    </tr>\n",
       "    <tr>\n",
       "      <th>5</th>\n",
       "      <td>glioma_8B/dynamic_summary</td>\n",
       "      <td>0.7537 ± 0.02</td>\n",
       "      <td>0.8218 ± 0.02</td>\n",
       "      <td>0.7669 ± 0.06</td>\n",
       "      <td>0.792 ± 0.03</td>\n",
       "      <td>0.7751 ± 0.02</td>\n",
       "    </tr>\n",
       "    <tr>\n",
       "      <th>6</th>\n",
       "      <td>glioma_8B/zero_shot_fn</td>\n",
       "      <td>0.6569 ± 0.04</td>\n",
       "      <td>0.6431 ± 0.02</td>\n",
       "      <td>0.9966 ± 0.01</td>\n",
       "      <td>0.8 ± 0.0</td>\n",
       "      <td>0.7479 ± 0.09</td>\n",
       "    </tr>\n",
       "    <tr>\n",
       "      <th>7</th>\n",
       "      <td>glioma_8B/zero_shot_summary</td>\n",
       "      <td>0.6548 ± 0.02</td>\n",
       "      <td>0.8427 ± 0.04</td>\n",
       "      <td>0.541 ± 0.04</td>\n",
       "      <td>0.658 ± 0.02</td>\n",
       "      <td>0.7534 ± 0.02</td>\n",
       "    </tr>\n",
       "  </tbody>\n",
       "</table>\n",
       "</div>"
      ],
      "text/plain": [
       "                          Model       Accuracy      Precision         Recall  \\\n",
       "0         glioma_70B/dynamic_fn  0.7071 ± 0.03  0.7369 ± 0.03   0.822 ± 0.05   \n",
       "1    glioma_70B/dynamic_summary  0.7537 ± 0.03  0.8311 ± 0.05  0.7568 ± 0.05   \n",
       "2       glioma_70B/zero_shot_fn  0.6168 ± 0.01  0.6159 ± 0.01      1.0 ± 0.0   \n",
       "3  glioma_70B/zero_shot_summary  0.6779 ± 0.04  0.7028 ± 0.03  0.8967 ± 0.03   \n",
       "4          glioma_8B/dynamic_fn  0.6779 ± 0.07  0.7667 ± 0.07  0.6852 ± 0.08   \n",
       "5     glioma_8B/dynamic_summary  0.7537 ± 0.02  0.8218 ± 0.02  0.7669 ± 0.06   \n",
       "6        glioma_8B/zero_shot_fn  0.6569 ± 0.04  0.6431 ± 0.02  0.9966 ± 0.01   \n",
       "7   glioma_8B/zero_shot_summary  0.6548 ± 0.02  0.8427 ± 0.04   0.541 ± 0.04   \n",
       "\n",
       "        F1 Score            AUC  \n",
       "0  0.7763 ± 0.03  0.7649 ± 0.05  \n",
       "1  0.7906 ± 0.03  0.8132 ± 0.04  \n",
       "2  0.7608 ± 0.01  0.7422 ± 0.05  \n",
       "3  0.7876 ± 0.02  0.5705 ± 0.14  \n",
       "4     0.7 ± 0.07  0.7525 ± 0.07  \n",
       "5   0.792 ± 0.03  0.7751 ± 0.02  \n",
       "6      0.8 ± 0.0  0.7479 ± 0.09  \n",
       "7   0.658 ± 0.02  0.7534 ± 0.02  "
      ]
     },
     "execution_count": 103,
     "metadata": {},
     "output_type": "execute_result"
    }
   ],
   "source": [
    "with open(\"glioma_metrics.json\", \"r\") as file:\n",
    "    json_data = json.load(file)\n",
    "\n",
    "df_list = []\n",
    "for key, values in json_data.items():\n",
    "    temp_df = pd.DataFrame.from_dict(values, orient='index')\n",
    "    temp_df.insert(0, \"Model\", key)\n",
    "    df_list.append(temp_df)\n",
    "\n",
    "df = pd.concat(df_list).reset_index().rename(columns={\"index\": \"Level\"})\n",
    "df = df.drop(\"Level\", axis=1)\n",
    "\n",
    "summary_df = df.groupby(\"Model\").agg([\"mean\", \"std\"])\n",
    "summary_df.loc[:, summary_df.columns.get_level_values(1) == 'mean'] = summary_df.loc[:, summary_df.columns.get_level_values(1) == 'mean'].round(4)\n",
    "summary_df.loc[:, summary_df.columns.get_level_values(1) == 'std'] = summary_df.loc[:, summary_df.columns.get_level_values(1) == 'std'].round(2)\n",
    "\n",
    "combined_df = pd.DataFrame()\n",
    "for metric in summary_df.columns.get_level_values(0).unique():\n",
    "    combined_df[metric] = summary_df[[(metric, 'mean')]].astype(str).values.flatten() + \" ± \" + summary_df[[(metric, 'std')]].astype(str).values.flatten()\n",
    "\n",
    "combined_df['Model'] = summary_df.index\n",
    "combined_df = combined_df[['Model'] + [col for col in combined_df.columns if col != 'Model']]\n",
    "combined_df"
   ]
  },
  {
   "cell_type": "markdown",
   "metadata": {},
   "source": [
    "# Visualizations\n",
    "---"
   ]
  },
  {
   "cell_type": "code",
   "execution_count": null,
   "metadata": {},
   "outputs": [],
   "source": []
  }
 ],
 "metadata": {
  "kernelspec": {
   "display_name": "Python 3",
   "language": "python",
   "name": "python3"
  },
  "language_info": {
   "codemirror_mode": {
    "name": "ipython",
    "version": 3
   },
   "file_extension": ".py",
   "mimetype": "text/x-python",
   "name": "python",
   "nbconvert_exporter": "python",
   "pygments_lexer": "ipython3",
   "version": "3.11.9"
  }
 },
 "nbformat": 4,
 "nbformat_minor": 2
}
